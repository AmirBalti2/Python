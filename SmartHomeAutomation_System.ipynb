{
  "nbformat": 4,
  "nbformat_minor": 0,
  "metadata": {
    "colab": {
      "private_outputs": true,
      "provenance": [],
      "authorship_tag": "ABX9TyPzGOZSLUIWxLICTpEqkWmy",
      "include_colab_link": true
    },
    "kernelspec": {
      "name": "python3",
      "display_name": "Python 3"
    },
    "language_info": {
      "name": "python"
    }
  },
  "cells": [
    {
      "cell_type": "markdown",
      "metadata": {
        "id": "view-in-github",
        "colab_type": "text"
      },
      "source": [
        "<a href=\"https://colab.research.google.com/github/AmirBalti2/Python/blob/main/SmartHomeAutomation_System.ipynb\" target=\"_parent\"><img src=\"https://colab.research.google.com/assets/colab-badge.svg\" alt=\"Open In Colab\"/></a>"
      ]
    },
    {
      "cell_type": "code",
      "execution_count": null,
      "metadata": {
        "id": "GP0GduC4IZ8h"
      },
      "outputs": [],
      "source": []
    },
    {
      "cell_type": "markdown",
      "source": [
        "Device Management (Lists & Tuples)\n",
        "Task 1.1: Create and Manage a List of Smart Devices\n",
        "● Create a list of at least 5 smart home devices (e.g., \"Lights\", \"Fan\", \"AC\", \"Door\n",
        "Lock\", \"Thermostat\").\n",
        "● Allow the user to:\n",
        "○ Add a new device.\n",
        "○ Remove a device.\n",
        "○ Sort devices alphabetically."
      ],
      "metadata": {
        "id": "rqz4OHdlI2pf"
      }
    },
    {
      "cell_type": "code",
      "source": [
        "devices = [\"Lights\", \"Fan\", \"AC\", \"Door Lock\", \"Thermostat\"]\n",
        "print(\"list of device you have {}\".format(devices))"
      ],
      "metadata": {
        "id": "MF0h70NXI6c_"
      },
      "execution_count": null,
      "outputs": []
    },
    {
      "cell_type": "code",
      "source": [
        "while True:\n",
        "    print(\"\\nMenu:\")\n",
        "    print(\"1. Add a new device\")\n",
        "    print(\"2. Remove a device\")\n",
        "    print(\"3. Sort devices alphabetically\")\n",
        "    print(\"4. Exit\")\n",
        "    choice = input(\"Enter your choice (1/2/3/4): \")\n",
        "    if(choice == \"1\"):\n",
        "        new_device = input(\"Enter the name of the new device: \")\n",
        "        devices.append(new_device)\n",
        "        print(\"Device added successfully! {}\".format(devices))\n",
        "\n",
        "    elif(choice == \"2\"):\n",
        "        remove_device = input(\"Enter the name of the device to remove: \")\n",
        "        if remove_device in devices:\n",
        "            devices.remove(remove_device)\n",
        "            print(\"Device removed successfully! {}\".format(devices))\n",
        "\n",
        "        else:\n",
        "            print(\"Device not found in the list.\")\n",
        "\n",
        "    elif choice==\"3\":\n",
        "        devices.sort()\n",
        "        print(\"Devices sorted alphabetically: {}\")\n",
        "        for device in devices:\n",
        "            print(device)\n",
        "\n",
        "    elif choice == \"4\":\n",
        "        print(\"Exiting the program.\")\n",
        "        break\n",
        "\n",
        "    else:\n",
        "        print(\"Invalid choice. Please try again.\")"
      ],
      "metadata": {
        "id": "Dj39Zt3SJYl_"
      },
      "execution_count": null,
      "outputs": []
    },
    {
      "cell_type": "markdown",
      "source": [
        "Task 1.2: Store Device Settings Using Tuples\n",
        "● Define a tuple for each device, containing:\n",
        "○ Device name\n",
        "○ Device status (ON/OFF)\n",
        "○ Device power consumption (in Watts)\n",
        "● Allow users to view all devices with their status and power consumption."
      ],
      "metadata": {
        "id": "Nzp7C_qLSY05"
      }
    },
    {
      "cell_type": "code",
      "source": [
        "import random\n",
        "list_device_data=[]\n",
        "device_data=()\n",
        "lenght=len(devices)\n",
        "\n",
        "status=\"\"\n",
        "while True:\n",
        "  choice=input(\"enter your choice 0 for view device status and 1 for exit\")\n",
        "  if(choice==\"0\"):\n",
        "    for i in range(len(devices)):\n",
        "\n",
        "      watt= random.randint(0, 100)\n",
        "      status_random=random.randint(0,1)\n",
        "      if(status_random==0):\n",
        "        status=\"ON\"\n",
        "      elif status_random==1:\n",
        "        status=\"OFF\"\n",
        "      list_device_data=(devices[i],status,watt)\n",
        "\n",
        "      device_data=tuple(list_device_data)\n",
        "      print(\"{}: {}\".format(devices[i],device_data))\n",
        "\n",
        "  elif(choice==\"1\"):\n",
        "    print(\"exit\")\n",
        "    break\n",
        "  else:\n",
        "    print(\"invalid choice\")\n",
        "\n",
        "\n"
      ],
      "metadata": {
        "id": "eR4IBGPgSak-"
      },
      "execution_count": null,
      "outputs": []
    },
    {
      "cell_type": "markdown",
      "source": [
        "2. Energy Consumption Tracker (Dictionaries & Sets)\n",
        "Task 2.1: Store Device Energy Usage in a Dictionary\n",
        "● Create a dictionary where:\n",
        "○ Keys: Smart home devices (e.g., \"Lights\", \"AC\", \"Fan\").\n",
        "○ Values: Energy usage (in kWh).\n",
        "● Allow users to:\n",
        "○ Add new energy usage data.\n",
        "○ Update existing usage.\n",
        "○ Remove a device's energy usage.\n",
        "○ Display total energy consumption."
      ],
      "metadata": {
        "id": "vMFPJOpqN92U"
      }
    },
    {
      "cell_type": "code",
      "source": [
        "device_usage={}\n",
        "for i in range(len(devices)):\n",
        "  watt= random.randint(0, 100)\n",
        "  device_usage[devices[i]]=watt\n",
        "print(\"Initial Energy Usage:\".format(device_usage))\n",
        "while True:\n",
        "  print(\"\\nMenu:\")\n",
        "  print(\"1. Add new energy usage data\")\n",
        "  print(\"2. Update existing usage\")\n",
        "  print(\"3. Remove a device's energy usage\")\n",
        "  print(\"4. Display total energy consumption\")\n",
        "  print(\"5. Exit\")\n",
        "  choice = input(\"Enter your choice (1/2/3/4): \")\n",
        "  if(choice == \"1\"):\n",
        "    new_device = input(\"Enter the name of the new device: \")\n",
        "    watt= random.randint(0, 100)\n",
        "\n",
        "    device_usage[new_device]=watt\n",
        "    print(\"Device added successfully! {}\".format(device_usage))\n",
        "  elif(choice==\"2\"):\n",
        "    while True:\n",
        "      update_device = input(\"Enter the name of the device to update: \")\n",
        "      if update_device in device_usage:\n",
        "        watt= random.randint(0, 100)\n",
        "        device_usage[update_device]=watt\n",
        "        print(\"Device updated successfully! {}\".format(device_usage))\n",
        "        break\n",
        "      else:\n",
        "        print(\"Device not found in the list.\")\n",
        "  elif(choice==\"3\"):\n",
        "    remove_device = input(\"Enter the name of the device to remove: \")\n",
        "    if remove_device in device_usage:\n",
        "      del device_usage[remove_device]\n",
        "      print(\"Device removed successfully! {}\".format(device_usage))\n",
        "  elif(choice==\"4\"):\n",
        "    total_energy=sum(device_usage.values())\n",
        "    print(\"Total Energy Consumption: {}\".format(total_energy))\n",
        "  elif choice == \"5\":\n",
        "    print(\"Exiting the program.\")\n",
        "    break\n",
        "  else:\n",
        "    print(\"Invalid choice. Please try again.\")\n"
      ],
      "metadata": {
        "id": "mgXDpXNTVGE-"
      },
      "execution_count": null,
      "outputs": []
    },
    {
      "cell_type": "markdown",
      "source": [
        "Task 2.2: Identify Unique Power-Saving Modes Using Sets\n",
        "● Create a set to store unique power-saving modes (e.g., \"Eco Mode\", \"Night Mode\",\n",
        "\"Away Mode\").\n",
        "● Allow users to:\n",
        "○ Add a new mode.\n",
        "○ Check if a mode is available.\n",
        "○ View all power-saving modes."
      ],
      "metadata": {
        "id": "Cyl2prPnRsq8"
      }
    },
    {
      "cell_type": "code",
      "source": [
        "energy_usage_set={'Eco Mode', 'Night Mode'}\n",
        "print(\"Initial Energy Usage: {}\".format(energy_usage_set))\n",
        "while True:\n",
        "  print(\"\\nMenu:\")\n",
        "  print(\"1. Add a new mode\")\n",
        "  print(\"2. Check if a mode is available\")\n",
        "  print(\"3. View all power-saving modes\")\n",
        "  print(\"4. Exit\")\n",
        "  choice = input(\"Enter your choice (1/2/3/4): \")\n",
        "  if(choice == \"1\"):\n",
        "    new_mode = input(\"Enter the new: \").strip()\n",
        "    energy_usage_set.add(new_mode)\n",
        "    print(\"Mode added successfully! {}\".format(energy_usage_set))\n",
        "    break\n",
        "  elif(choice==\"2\"):\n",
        "    check_mode = input(\"Enter the mode to check: \").strip()\n",
        "    if check_mode in energy_usage_set:\n",
        "      print(\"Mode is available!\")\n",
        "      break\n",
        "    else:\n",
        "      print(\"Mode is not available.\")\n",
        "  elif(choice==\"3\"):\n",
        "    print(\"All power-saving modes: {}\".format(energy_usage_set))\n",
        "  elif choice == \"4\":\n",
        "    print(\"Exiting the program.\")\n",
        "    break\n",
        "  else:\n",
        "    print(\"Invalid choice. Please try again.\")"
      ],
      "metadata": {
        "id": "51124pW_SWen"
      },
      "execution_count": null,
      "outputs": []
    },
    {
      "cell_type": "markdown",
      "source": [
        "3. Functions for Smart Home Automation\n",
        "Task 3.1: Create a Function to Calculate Monthly Energy Cost\n",
        "● Write a function calculate_energy_cost(energy_usage, rate_per_kwh)\n",
        "that:\n",
        "○ Takes total energy usage (kWh) and electricity rate per kWh as input.\n",
        "○ Calculates total monthly cost."
      ],
      "metadata": {
        "id": "btpzfTJKUweW"
      }
    },
    {
      "cell_type": "code",
      "source": [
        "def calculate_energy_cost(energy_usage, rate_per_kwh):\n",
        "    monthly_cost = energy_usage * rate_per_kwh\n",
        "    return monthly_cost"
      ],
      "metadata": {
        "id": "3ofvAsSHUrU4"
      },
      "execution_count": null,
      "outputs": []
    },
    {
      "cell_type": "code",
      "source": [
        "energy_usage=int(input(\"Enter the energy usage: \"))\n",
        "rate_per_kwh=int(input(\"Enter the rate per kWh:\"))\n",
        "monthly_cost=calculate_energy_cost(energy_usage,rate_per_kwh)\n",
        "print(\"Total monthly cost: {}\".format(monthly_cost))"
      ],
      "metadata": {
        "id": "yKsfatHBVgNu"
      },
      "execution_count": null,
      "outputs": []
    },
    {
      "cell_type": "code",
      "source": [],
      "metadata": {
        "id": "8GADE8SKXuYS"
      },
      "execution_count": null,
      "outputs": []
    },
    {
      "cell_type": "markdown",
      "source": [
        "Task 3.2: Create a Function to Find Common Devices in Two Homes\n",
        "● Write a function that:\n",
        "○ Takes two lists of smart devices from two different homes.\n",
        "○ Returns a set of common devices."
      ],
      "metadata": {
        "id": "1zUMmuNHXT6v"
      }
    },
    {
      "cell_type": "code",
      "source": [
        "def find_common_devices(home1_devices, home2_devices):\n",
        "    common_devices = set(home1_devices) & set(home2_devices)\n",
        "    return common_devices"
      ],
      "metadata": {
        "id": "wIGKXLBEXvCN"
      },
      "execution_count": null,
      "outputs": []
    },
    {
      "cell_type": "code",
      "source": [
        "home1_device=[\"Fan\",\"Door Lock\",\"Lights\"]\n",
        "home2_device=[\"Fan\",\"Thermostat\",\"Lights\"]\n",
        "common_devices=find_common_devices(home1_device,home2_device)\n",
        "print(\"Common Devices: {}\".format(common_devices))"
      ],
      "metadata": {
        "id": "-vSwaqiiXTJU"
      },
      "execution_count": null,
      "outputs": []
    },
    {
      "cell_type": "markdown",
      "source": [
        "4. Automation Features (Advanced Functions)\n",
        "Task 4.1: Create an Automation Rule Using Functions\n",
        "● Write a function set_automation_rule(device, time, action) that:\n",
        "○ Takes a device name, time, and an action (ON/OFF).\n",
        "○ Returns a message indicating the automation rule."
      ],
      "metadata": {
        "id": "NAt5J7vEYwUE"
      }
    },
    {
      "cell_type": "code",
      "source": [
        "def set_automation_rule(device, time, action):\n",
        "  return f\"Automation rule set: Turn {action} {device} at {time}.\""
      ],
      "metadata": {
        "id": "lkVEs7FxXX1a"
      },
      "execution_count": null,
      "outputs": []
    },
    {
      "cell_type": "code",
      "source": [
        "device=input(\"Enter the device name: \").strip()\n",
        "time=input(\"Enter the time: \")\n",
        "action=input(\"Enter the action:\").strip()\n",
        "automation_rule=set_automation_rule(device,time,action)\n",
        "print(automation_rule)"
      ],
      "metadata": {
        "id": "L52IftIqY_6T"
      },
      "execution_count": null,
      "outputs": []
    },
    {
      "cell_type": "markdown",
      "source": [
        "Task 4.2: Function to Optimize Power Consumption\n",
        "● Write a function that:\n",
        "○ Takes a list of devices with their power usage.\n",
        "○ Turns off devices consuming high power (> 1000W).\n",
        "○ Returns an updated list of active devices.\n"
      ],
      "metadata": {
        "id": "UiUZDOxCZYPe"
      }
    },
    {
      "cell_type": "code",
      "source": [
        "def optimize_power(devices):\n",
        "  active_device=[]\n",
        "  for device, power in devices:\n",
        "    if power<=1000:\n",
        "      active_device.append(device)\n",
        "  return active_device\n",
        "\n"
      ],
      "metadata": {
        "id": "Tw2K45I5Zkxi"
      },
      "execution_count": null,
      "outputs": []
    },
    {
      "cell_type": "code",
      "source": [
        "devices = [(\"Lights\", 60), (\"AC\", 1500), (\"Fan\", 40), (\"Heater\",\n",
        "2000)]\n",
        "print(optimize_power(devices))"
      ],
      "metadata": {
        "id": "zpiu3Khaahap"
      },
      "execution_count": null,
      "outputs": []
    },
    {
      "cell_type": "code",
      "source": [],
      "metadata": {
        "id": "XWpkzknSarlK"
      },
      "execution_count": null,
      "outputs": []
    }
  ]
}